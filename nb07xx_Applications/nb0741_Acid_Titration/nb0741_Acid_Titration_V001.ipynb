{
 "cells": [
  {
   "cell_type": "markdown",
   "metadata": {},
   "source": [
    "# Acetic Acid Titration\n",
    "\n",
    "**This exercise is inspired by Ziad, 2021-05-13**"
   ]
  },
  {
   "cell_type": "code",
   "execution_count": null,
   "metadata": {},
   "outputs": [],
   "source": [
    "import numpy as np\n",
    "import numpy.linalg as la\n",
    "import matplotlib.pyplot as plt"
   ]
  },
  {
   "cell_type": "markdown",
   "metadata": {},
   "source": [
    "## Linear Regression Function\n",
    "\n",
    "You don't have to understand the math of the regression in order to use this function.\n",
    "\n",
    "Call `help(my_lin_reg)` to get instructions how to use it."
   ]
  },
  {
   "cell_type": "code",
   "execution_count": null,
   "metadata": {},
   "outputs": [],
   "source": [
    "# linear regression\n",
    "def my_lin_reg(xs,ys,xr):\n",
    "    '''\n",
    "    yr = my_lin_reg(xs,ys,xr)\n",
    "    Linear regression approximating the N points (xs,ys)_k\n",
    "    The resulting linear function is evaluated at coordinates xr yielding yr. The points (xr,yr) make the regression line.\n",
    "    '''\n",
    "    A = np.vstack([xs, np.ones(len(xs))]).T\n",
    "    m, c = np.linalg.lstsq(A, ys, rcond=None)[0]\n",
    "    yr = m*xr + c\n",
    "    return yr"
   ]
  },
  {
   "cell_type": "markdown",
   "metadata": {},
   "source": [
    "## Write data to CSV file\n",
    "\n",
    "Needed only once. You should store data in seperate data files persistently and not in notebooks. You could use a simple text file in CSV format. CSV means: \"comma separated values\". Instead of comma I am often using semicolon as field separator. In the example below I am using comma ... \n"
   ]
  },
  {
   "cell_type": "code",
   "execution_count": null,
   "metadata": {},
   "outputs": [],
   "source": [
    "#X =np.array([x,y]).T\n",
    "#np.savetxt(filename,X,fmt='%.3f',delimiter=\",\")"
   ]
  },
  {
   "cell_type": "markdown",
   "metadata": {},
   "source": [
    "## Read data from CSV file"
   ]
  },
  {
   "cell_type": "code",
   "execution_count": null,
   "metadata": {},
   "outputs": [],
   "source": [
    "help(np.loadtxt)"
   ]
  },
  {
   "cell_type": "code",
   "execution_count": null,
   "metadata": {},
   "outputs": [],
   "source": [
    "filename = \"acetic_acid_titration.csv\""
   ]
  },
  {
   "cell_type": "code",
   "execution_count": null,
   "metadata": {},
   "outputs": [],
   "source": [
    "X = np.loadtxt(filename,delimiter=\",\",comments='#' )\n",
    "x = X[:,0]\n",
    "y = X[:,1]"
   ]
  },
  {
   "cell_type": "markdown",
   "metadata": {},
   "source": [
    "## Plot"
   ]
  },
  {
   "cell_type": "code",
   "execution_count": null,
   "metadata": {},
   "outputs": [],
   "source": [
    "fig1, ax1 = plt.subplots(figsize=(10,5), dpi=136)\n",
    "ax1.plot(x, y, \"o-\")\n",
    "ax1.set_xlabel(\"NaOH / ml\")\n",
    "ax1.set_ylabel(\"pH\")\n",
    "ax1.set_xlim([0,50])\n",
    "ax1.set_ylim([2,14])\n",
    "ax1.set_title(\"Titration of 25ml Acetic Acid(0.1M) with NaOH (0.1M)\")\n",
    "ax1.grid(True)\n",
    "ax1.legend([\"PH change of Acetic Acid(0.1M)\"])\n",
    "fig1.savefig(\"Acetic_Acid_Titration.png\")\n",
    "plt.show()"
   ]
  },
  {
   "cell_type": "code",
   "execution_count": null,
   "metadata": {},
   "outputs": [],
   "source": [
    "help(my_lin_reg)"
   ]
  },
  {
   "cell_type": "markdown",
   "metadata": {},
   "source": [
    "## Construction of the linear regression line coming from the left"
   ]
  },
  {
   "cell_type": "code",
   "execution_count": null,
   "metadata": {},
   "outputs": [],
   "source": [
    "xsL = x[:5] # (xs,ys) sample points the linear regression should approximate\n",
    "ysL = y[:5] # \n",
    "\n",
    "xrL = np.linspace(0,30,2) # the x coordinates at which the regression line is drawn (just two points needed: start - end, you can use more, if you want ...)\n",
    "yrL = my_lin_reg(xsL,ysL,xrL) # Perform the linear regression"
   ]
  },
  {
   "cell_type": "code",
   "execution_count": null,
   "metadata": {},
   "outputs": [],
   "source": [
    "fig2, ax2 = plt.subplots(figsize=(10,5), dpi=136)\n",
    "\n",
    "ax2.plot(x, y, \"o-\")\n",
    "ax2.plot(xrL, yrL, \"-r\") # regression from left\n",
    "\n",
    "ax2.set_xlabel(\"NaOH / ml\")\n",
    "ax2.set_ylabel(\"pH\")\n",
    "ax2.set_xlim([0,50])\n",
    "ax2.set_ylim([2,14])\n",
    "ax2.set_title(\"Titration of 25ml Acetic Acid(0.1M) with NaOH (0.1M)\")\n",
    "ax2.grid(True)\n",
    "ax2.legend([\"PH change of Acetic Acid(0.1M)\"])\n",
    "fig2.savefig(\"Acetic_Acid_Titration_Regression.png\")\n",
    "plt.show()"
   ]
  },
  {
   "cell_type": "markdown",
   "metadata": {},
   "source": [
    "## Exercise: Draw the other two regression lines!\n",
    "\n",
    "You have a left, middle and right regression line. find the right index ranges:\n",
    "\n",
    "```\n",
    "idxL = np.arange(0,5) # take the first 5 points from the left, i.e. index 0 to index 5. THIS IS NOT THE BEST CHOICE! Play with it!\n",
    "\n",
    "idxM = ... # index set for the middle regression line including the inflection point \n",
    "\n",
    "idxR = ... # points from the right for the right regression line\n",
    "\n",
    "```"
   ]
  },
  {
   "cell_type": "code",
   "execution_count": null,
   "metadata": {},
   "outputs": [],
   "source": []
  },
  {
   "cell_type": "code",
   "execution_count": null,
   "metadata": {},
   "outputs": [],
   "source": []
  }
 ],
 "metadata": {
  "kernelspec": {
   "display_name": "Python 3",
   "language": "python",
   "name": "python3"
  },
  "language_info": {
   "codemirror_mode": {
    "name": "ipython",
    "version": 3
   },
   "file_extension": ".py",
   "mimetype": "text/x-python",
   "name": "python",
   "nbconvert_exporter": "python",
   "pygments_lexer": "ipython3",
   "version": "3.8.5"
  }
 },
 "nbformat": 4,
 "nbformat_minor": 4
}
