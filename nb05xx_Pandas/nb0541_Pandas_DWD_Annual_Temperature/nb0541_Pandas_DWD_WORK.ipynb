{
 "cells": [
  {
   "cell_type": "markdown",
   "metadata": {},
   "source": [
    "# Pandas: DWD Annual Temperatures\n",
    "\n",
    "* DWD: Deutscher Wetterdient, German Weather Service\n",
    "* CDC: Climate Data Center\n",
    "\n",
    "## About the DWD CDC Archive\n",
    "\n",
    "1. DWD CDC main web portal:\n",
    "<br> https://www.dwd.de/EN/climate_environment/cdc/cdc_en.html\n",
    "1. Open Data Archive of the DWD CDC: \n",
    "<br> https://opendata.dwd.de/climate_environment/CDC/\n",
    "1. Decription of the CDC climate and environment data archive organization:\n",
    "<br> https://opendata.dwd.de/climate_environment/CDC/Readme_intro_CDC_ftp.pdf\n",
    "1. Historical climate data:\n",
    "<br> https://opendata.dwd.de/climate_environment/CDC/observations_germany/climate/annual/kl/historical/\n",
    "\n",
    "## Download Data:\n",
    "\n",
    "Youz find the description of the climate stations providing mean annual temperature here: <br>\n",
    "https://opendata.dwd.de/climate_environment/CDC/observations_germany/climate/annual/kl/historical/KL_Jahreswerte_Beschreibung_Stationen.txt\n",
    "\n",
    "Donwload the data (zip archives) for the stations:\n",
    "1. Essen-Bredeney\n",
    "1. Duisburg-Baerl\n",
    "1. Kahler Asten\n",
    "\n",
    "Move them to the local data directory `./data/` and unzip them in different subdirectories, i.e. on Windows\n",
    "\n",
    "`<right click> -> 'extract all ...'`"
   ]
  },
  {
   "cell_type": "code",
   "execution_count": 2,
   "metadata": {},
   "outputs": [
    {
     "data": {
      "text/plain": [
       "5"
      ]
     },
     "execution_count": 2,
     "metadata": {},
     "output_type": "execute_result"
    }
   ],
   "source": [
    "2+3"
   ]
  },
  {
   "cell_type": "code",
   "execution_count": null,
   "metadata": {},
   "outputs": [],
   "source": []
  }
 ],
 "metadata": {
  "kernelspec": {
   "display_name": "Python 3",
   "language": "python",
   "name": "python3"
  },
  "language_info": {
   "codemirror_mode": {
    "name": "ipython",
    "version": 3
   },
   "file_extension": ".py",
   "mimetype": "text/x-python",
   "name": "python",
   "nbconvert_exporter": "python",
   "pygments_lexer": "ipython3",
   "version": "3.8.6"
  }
 },
 "nbformat": 4,
 "nbformat_minor": 4
}
