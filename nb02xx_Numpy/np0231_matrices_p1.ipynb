{
 "cells": [
  {
   "cell_type": "markdown",
   "metadata": {},
   "source": [
    "# Matrices, Part 1"
   ]
  },
  {
   "cell_type": "code",
   "execution_count": null,
   "metadata": {},
   "outputs": [],
   "source": [
    "import numpy as np\n",
    "import numpy.linalg as la\n",
    "import matplotlib.pyplot as plt"
   ]
  },
  {
   "cell_type": "markdown",
   "metadata": {},
   "source": [
    "## Exercise: Neutral Element\n",
    "\n",
    "Define the following matrices:\n",
    "\n",
    "$\n",
    "\\begin{eqnarray}\n",
    "A & = & \n",
    "\\begin{pmatrix}\n",
    "    1 & 3 & 1 \\\\\n",
    "    3 & 2 & 5 \\\\\n",
    "    1 & 2 & 2 \n",
    "\\end{pmatrix}\n",
    "\\\\\n",
    "I_3 & = & \n",
    "\\begin{pmatrix}\n",
    "    1 & 0 & 0 \\\\\n",
    "    0 & 1 & 0 \\\\\n",
    "    0 & 0 & 1 \n",
    "\\end{pmatrix}\n",
    "\\end{eqnarray}\n",
    "$"
   ]
  },
  {
   "cell_type": "code",
   "execution_count": null,
   "metadata": {},
   "outputs": [],
   "source": [
    "A = np.array( [\n",
    "        [1.,3,1], \n",
    "        [3,2,5],\n",
    "        [2,2,2]\n",
    "    ] )\n",
    "\n",
    "print(A)"
   ]
  },
  {
   "cell_type": "code",
   "execution_count": null,
   "metadata": {},
   "outputs": [],
   "source": [
    "# I3 = "
   ]
  },
  {
   "cell_type": "markdown",
   "metadata": {},
   "source": [
    "### Multiply the matrices  $A$ and $I_3$.\n",
    "\n",
    "To perform a matrix-matrix-multiplication or a matrix-vector-multiplication you have to use the dot product.\n",
    "\n",
    "**There are two ways to call the dot product function:** <br>\n",
    "1. Call the dot product function which is already a matrix method, i.e. `A.dot(B)`.\n",
    "1. Call the numpy function `dot()`, i.e. `np.dot(A,B)`\n",
    "\n",
    "Calculate $A\\cdot I_3$ and $I_3 \\cdot A$."
   ]
  },
  {
   "cell_type": "code",
   "execution_count": null,
   "metadata": {},
   "outputs": [],
   "source": [
    "# A*I3\n",
    "A2 = A.dot(I3)    # option 1\n",
    "A3 = np.dot(A,I3) # option 2"
   ]
  },
  {
   "cell_type": "code",
   "execution_count": null,
   "metadata": {},
   "outputs": [],
   "source": [
    "# I3*A\n",
    "A4 = I3.dot(A)    # option 1\n",
    "A5 = np.dot(I3,A) # option 2"
   ]
  },
  {
   "cell_type": "markdown",
   "metadata": {},
   "source": [
    "**Compare** $A$, $A_2$, $A_3$, $A_4$, $A_5$"
   ]
  },
  {
   "cell_type": "code",
   "execution_count": null,
   "metadata": {},
   "outputs": [],
   "source": [
    "print(f\"A = \\n {A}\")\n",
    "print(f\"A2 = \\n {A2}\")\n",
    "print(\"...\")\n",
    "# print ..."
   ]
  },
  {
   "cell_type": "markdown",
   "metadata": {},
   "source": [
    "Observation: $A\\cdot I = I\\cdot A = A$.\n",
    "\n",
    "Multiplication with $I$ does not change the matrix $A$. <br> \n",
    "$I$ is called the unit matrix or the identity matrix. It acts like the $1$ in a scalar multiplication. <br>\n",
    "$I$ is is the **neutral element of multipliction**. It is sometimes denoted as \n",
    "$\n",
    "\\mathbb{1}\n",
    "$."
   ]
  },
  {
   "cell_type": "markdown",
   "metadata": {},
   "source": [
    "There is a short numpy function to generate any n-dimensional unit matrix:"
   ]
  },
  {
   "cell_type": "code",
   "execution_count": null,
   "metadata": {},
   "outputs": [],
   "source": [
    "# create a 5x5 unit matrix\n",
    "n = 5\n",
    "I5 = np.eye(n)\n",
    "print(I5)"
   ]
  },
  {
   "cell_type": "markdown",
   "metadata": {},
   "source": [
    "## Exercise: Matrix multiplications are **generally** not commutative! (There are exeptions ...)\n",
    "\n"
   ]
  },
  {
   "cell_type": "code",
   "execution_count": null,
   "metadata": {},
   "outputs": [],
   "source": [
    "K = np.array([[1., 2,  3], [4, 5, 6], [7, 8, 9]])\n",
    "print(K)"
   ]
  },
  {
   "cell_type": "markdown",
   "metadata": {},
   "source": [
    "Calculate $A\\cdot K$ and $K\\cdot A$. What do you observe?"
   ]
  },
  {
   "cell_type": "code",
   "execution_count": null,
   "metadata": {},
   "outputs": [],
   "source": [
    "# A.dot(...)\n",
    "# ..."
   ]
  },
  {
   "cell_type": "code",
   "execution_count": null,
   "metadata": {},
   "outputs": [],
   "source": []
  },
  {
   "cell_type": "markdown",
   "metadata": {},
   "source": [
    "## Exercise: Inverse Element \n",
    "\n",
    "\n",
    "Let us discuss the scalar (\"ordinary\") multiplication first (with real numbers). The element $1$ is the neutral element of the scalar multiplication: \n",
    "<br>\n",
    "$x\\cdot 1 = 1\\cdot x = x$.\n",
    "\n",
    "The inverse element is the element the multiplication with which yields the neutral element. \n",
    "\n",
    "If $x\\cdot y = y\\cdot x = 1$ is defined, then $y$ is the inverse element to $x$. \n",
    "\n",
    "The inverse element is denoted as $ y = x^{-1}$, i.e. $x\\cdot x^{-1} = x^{-1} \\cdot x = 1 $ \n",
    "\n",
    "In scalar multiplication: $x^{-1} = \\frac{1}{x}$, since $\\frac{1}{x}\\cdot x = \\frac{x}{x} = 1$. \n",
    "\n",
    "This only works for $x \\ne 0$: There is no to inverse element $y$ of $0$, such that $0\\cdot y = 1$.\n",
    "\n",
    "**The concept of neutral and inverse elements can be transferred to matrices!**\n",
    "\n",
    "Let us assume the multiplication of two **square matrices** yields the neutral element, i.e. $X\\cdot Y = \\mathbb{1}$. \n",
    "<br>\n",
    "Then the matrix $Y$ is called the inverse of $X$: \n",
    "<br>\n",
    "$Y = X^{-1}$.  \n",
    "\n",
    "The multiplication with the inverse element is commutative, i.e. \n",
    "<br>\n",
    "$X\\cdot X^{-1} = X^{-1} \\cdot X = \\mathbb{1}$. \n",
    "\n",
    "### Some practical calculations\n",
    "\n",
    "Define the following matrices:\n",
    "\n",
    "$\n",
    "\\begin{eqnarray}\n",
    "A & = &\n",
    "\\begin{pmatrix}\n",
    "    1 & 3 & 1 \\\\\n",
    "    3 & 2 & 5 \\\\\n",
    "    1 & 2 & 2 \\\\\n",
    "\\end{pmatrix}\n",
    "\\\\\n",
    "B & = &\n",
    "\\begin{pmatrix}\n",
    "    -6 & -4 & 13 \\\\\n",
    "    4 & 0 & -2 \\\\\n",
    "    2 & 4 & -7 \\\\\n",
    "\\end{pmatrix}\n",
    "\\\\\n",
    "C & = & \\frac{1}{8} B \n",
    "\\end{eqnarray}\n",
    "$\n"
   ]
  },
  {
   "cell_type": "code",
   "execution_count": null,
   "metadata": {},
   "outputs": [],
   "source": [
    "B = np.array([[-6., -4,  13], [4, 0, -2], [2,4,-7]])\n",
    "print(B)"
   ]
  },
  {
   "cell_type": "code",
   "execution_count": null,
   "metadata": {},
   "outputs": [],
   "source": [
    "# C = ...\n",
    "print(C)"
   ]
  },
  {
   "cell_type": "markdown",
   "metadata": {},
   "source": [
    "Multiply the matrices: $D = A\\cdot B$."
   ]
  },
  {
   "cell_type": "code",
   "execution_count": null,
   "metadata": {},
   "outputs": [],
   "source": [
    "# Call:\n",
    "# D = A.dot(B)\n",
    "print(D)"
   ]
  },
  {
   "cell_type": "markdown",
   "metadata": {},
   "source": [
    "Multiply the matrices: $J = A\\cdot C$. <br>\n",
    "What do you observe?"
   ]
  },
  {
   "cell_type": "code",
   "execution_count": null,
   "metadata": {},
   "outputs": [],
   "source": [
    "# Perform J = A dot C ...\n",
    "#  J = \n",
    "print(J)"
   ]
  },
  {
   "cell_type": "markdown",
   "metadata": {},
   "source": [
    "How are $A$ and $C$ related?"
   ]
  },
  {
   "cell_type": "markdown",
   "metadata": {},
   "source": [
    "## Exercise: A square matrix is invertible if and only if its determinant is not 0.\n",
    "\n",
    "We have seen that $A$ is invertible with $A^{-1} = C$.\n",
    "\n",
    "Let us check if determinants are non-zero:\n",
    "\n",
    "$d_A = \\det{(A)}$ and $d_C = \\det{(C)}$ \n",
    "\n",
    "Search the numpy documentation for help on $\\det(\\ldots)$: https://numpy.org/doc/stable/reference/routines.linalg.html"
   ]
  },
  {
   "cell_type": "code",
   "execution_count": null,
   "metadata": {},
   "outputs": [],
   "source": [
    "# Calce determinants ...\n",
    "# dA = ...\n",
    "# ...\n",
    "\n",
    "print(f\"det(A)        = {dA:6.4f}\")\n",
    "print(f\"det(C)        = {dC:6.4f}\")\n",
    "print(f\"det(A)*det(C) = {dA*dC:6.4f}\")\n"
   ]
  },
  {
   "cell_type": "markdown",
   "metadata": {},
   "source": [
    "What do you observe?"
   ]
  },
  {
   "cell_type": "markdown",
   "metadata": {},
   "source": [
    "**Example of a non-invertible matrix**"
   ]
  },
  {
   "cell_type": "code",
   "execution_count": null,
   "metadata": {},
   "outputs": [],
   "source": [
    "F = np.array([[1,2,3],[2,4,6],[7,8,9]])\n",
    "print(F)"
   ]
  },
  {
   "cell_type": "markdown",
   "metadata": {},
   "source": [
    "Determine $\\det(F)$. What does the result indicate?"
   ]
  },
  {
   "cell_type": "code",
   "execution_count": null,
   "metadata": {},
   "outputs": [],
   "source": [
    "# dF = ...\n",
    "print(dF)"
   ]
  },
  {
   "cell_type": "markdown",
   "metadata": {},
   "source": [
    "### Exercise: Invert matrices\n",
    "\n",
    "The command to matrix $A$ is `Ainv = numpy.linalg.inv(A)`\n",
    "\n",
    "`numpy.linalg` was imported earlier as `la`."
   ]
  },
  {
   "cell_type": "code",
   "execution_count": null,
   "metadata": {},
   "outputs": [],
   "source": [
    "Ainv = la.inv(A)\n",
    "print(Ainv)"
   ]
  },
  {
   "cell_type": "markdown",
   "metadata": {},
   "source": [
    "How can you check that this is really the inverse $A^{-1}$?"
   ]
  },
  {
   "cell_type": "markdown",
   "metadata": {},
   "source": [
    "**Invert the matrix G:**"
   ]
  },
  {
   "cell_type": "code",
   "execution_count": null,
   "metadata": {},
   "outputs": [],
   "source": [
    "G = np.array([[1., 2, 3],\n",
    "              [2, 4, 6],\n",
    "              [1, 6, 7]])\n",
    "print(G)"
   ]
  },
  {
   "cell_type": "markdown",
   "metadata": {},
   "source": [
    "**Invert the matrix R:**"
   ]
  },
  {
   "cell_type": "markdown",
   "metadata": {},
   "source": [
    "$\n",
    "\\begin{eqnarray}\n",
    "R & = &\n",
    "\\begin{pmatrix}\n",
    "    \\cos(\\phi) & -\\sin(\\phi) & 0 \\\\\n",
    "    \\sin(\\phi) & \\cos(\\phi) & 0 \\\\\n",
    "    0 & 0 & 1 \\\\\n",
    "\\end{pmatrix}\n",
    "\\end{eqnarray}\n",
    "$\n",
    "\n",
    "with an angle $\\phi$.\n",
    "\n",
    "Use $\\phi = 30°$."
   ]
  },
  {
   "cell_type": "code",
   "execution_count": null,
   "metadata": {},
   "outputs": [],
   "source": [
    "phi = np.deg2rad(30) # angle, degree to radian"
   ]
  },
  {
   "cell_type": "code",
   "execution_count": null,
   "metadata": {},
   "outputs": [],
   "source": [
    "R = np.array([\n",
    "    [np.cos(phi), -np.sin(phi),  0],\n",
    "    [np.sin(phi),  np.cos(phi),  0],\n",
    "    [          0,            0,  1]    \n",
    "])\n",
    "print(R)"
   ]
  },
  {
   "cell_type": "markdown",
   "metadata": {},
   "source": [
    "Determine the determinant and invert the matrix. Check whether $R\\cdot R^{-1} = \\mathbb{1}$."
   ]
  },
  {
   "cell_type": "code",
   "execution_count": null,
   "metadata": {},
   "outputs": [],
   "source": []
  }
 ],
 "metadata": {
  "kernelspec": {
   "display_name": "Python 3",
   "language": "python",
   "name": "python3"
  },
  "language_info": {
   "codemirror_mode": {
    "name": "ipython",
    "version": 3
   },
   "file_extension": ".py",
   "mimetype": "text/x-python",
   "name": "python",
   "nbconvert_exporter": "python",
   "pygments_lexer": "ipython3",
   "version": "3.8.6"
  }
 },
 "nbformat": 4,
 "nbformat_minor": 4
}
