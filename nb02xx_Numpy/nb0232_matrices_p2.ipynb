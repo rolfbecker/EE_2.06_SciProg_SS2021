{
 "cells": [
  {
   "cell_type": "markdown",
   "metadata": {},
   "source": [
    "# Matrices, Part 2"
   ]
  },
  {
   "cell_type": "code",
   "execution_count": null,
   "metadata": {},
   "outputs": [],
   "source": [
    "import numpy as np\n",
    "import numpy.linalg as la\n",
    "import matplotlib.pyplot as plt"
   ]
  },
  {
   "cell_type": "code",
   "execution_count": null,
   "metadata": {},
   "outputs": [],
   "source": [
    "def vec(x,y):\n",
    "    return np.array([x,y])"
   ]
  },
  {
   "cell_type": "markdown",
   "metadata": {},
   "source": [
    "## Exercise: Plot Vectors"
   ]
  },
  {
   "cell_type": "code",
   "execution_count": null,
   "metadata": {},
   "outputs": [],
   "source": [
    "def draw_vec(a,b,color=\"k\",ax=\"\"):\n",
    "    '''\n",
    "    A wrapper to simplify the quiver function call\n",
    "    It draws a vector arrow from point a to point b\n",
    "    a: 2D start point, e.g. np.array( [a0,a1] )\n",
    "    b: 2D end point,   e.g. np.array( [b0,b1] )\n",
    "    If the axis object is not given explicitly the function calls gca(...) (get current figure)\n",
    "    '''\n",
    "    if (ax == \"\"): ax = plt.gca()\n",
    "    ax.quiver(a[0],a[1],b[0],b[1],scale_units=\"x\", scale=1, color = color)"
   ]
  },
  {
   "cell_type": "code",
   "execution_count": null,
   "metadata": {},
   "outputs": [],
   "source": [
    "help(draw_vec)"
   ]
  },
  {
   "cell_type": "markdown",
   "metadata": {},
   "source": [
    "**Define some vectors ...**"
   ]
  },
  {
   "cell_type": "code",
   "execution_count": null,
   "metadata": {},
   "outputs": [],
   "source": [
    "z = vec(0,0) # Zero vector, origin of coordinate system \n",
    "a = vec(0,2)\n",
    "b = vec(2,1)\n",
    "c = a + b"
   ]
  },
  {
   "cell_type": "markdown",
   "metadata": {},
   "source": [
    "Read and under stand the code:"
   ]
  },
  {
   "cell_type": "code",
   "execution_count": null,
   "metadata": {},
   "outputs": [],
   "source": [
    "fig1, ax1 = plt.subplots(figsize=(5,5), dpi=136)\n",
    "\n",
    "draw_vec(z,a,color=\"r\") # draw vector a starting from (0,0)\n",
    "draw_vec(z,b,color=\"b\") # draw vector b starting from (0,0)\n",
    "draw_vec(z,c,color=\"k\") # draw vector c (=a+b) starting from (0,0)\n",
    "draw_vec(a,b,color=\"b\") # draw vector b starting from vector a\n",
    "\n",
    "# annotate vectors\n",
    "ax1.annotate(\"$\\overrightarrow{a}$\",(-0.4,1)) # matplotlib does not understand \\vec(a)\n",
    "ax1.annotate(\"$\\overrightarrow{b}$\",(0.8,2.7)) \n",
    "ax1.annotate(\"$\\overrightarrow{b}$\",(1,0))\n",
    "ax1.annotate(\"$\\overrightarrow{c}$\",(1.4,1.5))\n",
    "\n",
    "ax1.set_xlim(-4,4)\n",
    "ax1.set_ylim(-4,4)\n",
    "ax1.set_aspect(\"equal\",\"box\")\n",
    "ax1.grid(True)\n",
    "\n",
    "plt.show()"
   ]
  },
  {
   "cell_type": "markdown",
   "metadata": {},
   "source": [
    "**Exercises:**\n",
    "\n",
    "1. Draw the vector $-\\vec{b}$ in green color into the figure starting from the origin $\\vec{z}=(0,0)$.\n",
    "1. Calculate $\\vec{d}=\\vec{a}-\\vec{b}=\\vec{a}+(-\\vec{b})$ and draw it in yellow color on the figure.\n",
    "1. Draw the vector $-\\vec{b}$ in green color into the figure starting from the vector $\\vec{a}$.\n",
    "1. Annotate all new vectors.\n"
   ]
  },
  {
   "cell_type": "code",
   "execution_count": null,
   "metadata": {},
   "outputs": [],
   "source": []
  },
  {
   "cell_type": "markdown",
   "metadata": {},
   "source": [
    "## Exercise: 2D Rotation Matrix"
   ]
  },
  {
   "cell_type": "markdown",
   "metadata": {},
   "source": [
    "$\n",
    "\\begin{eqnarray}\n",
    "R & = &\n",
    "\\begin{pmatrix}\n",
    "    \\cos(\\phi) & -\\sin(\\phi) \\\\\n",
    "    \\sin(\\phi) & \\cos(\\phi) \\\\\n",
    "\\end{pmatrix}\n",
    "\\end{eqnarray}\n",
    "$\n",
    "\n",
    "with an angle $\\phi$.\n",
    "\n",
    "Use $\\phi = 30°$."
   ]
  },
  {
   "cell_type": "code",
   "execution_count": null,
   "metadata": {},
   "outputs": [],
   "source": [
    "phi = np.deg2rad(30) # angle, degree to radian"
   ]
  },
  {
   "cell_type": "code",
   "execution_count": null,
   "metadata": {},
   "outputs": [],
   "source": [
    "R = np.array([\n",
    "    [np.cos(phi), -np.sin(phi)],\n",
    "    [np.sin(phi),  np.cos(phi)]  \n",
    "])\n",
    "print(R)"
   ]
  },
  {
   "cell_type": "markdown",
   "metadata": {},
   "source": [
    "**Define vector $\\vec{v}_0$.**"
   ]
  },
  {
   "cell_type": "code",
   "execution_count": null,
   "metadata": {},
   "outputs": [],
   "source": [
    "v0 = 3*vec(1,0)"
   ]
  },
  {
   "cell_type": "markdown",
   "metadata": {},
   "source": [
    "Create a new vector by multiplying $R$ by the old $a_0$:\n",
    "\n",
    "$\\vec{v}_1 = R\\cdot \\vec{v}_0 $  "
   ]
  },
  {
   "cell_type": "code",
   "execution_count": null,
   "metadata": {},
   "outputs": [],
   "source": [
    "v1 = R.dot(v0)"
   ]
  },
  {
   "cell_type": "code",
   "execution_count": null,
   "metadata": {},
   "outputs": [],
   "source": [
    "fig2, ax2 = plt.subplots(figsize=(5,5), dpi=136)\n",
    "\n",
    "draw_vec(z,v0,\"b\")\n",
    "draw_vec(z,v1,\"b\")\n",
    "\n",
    "ax2.set_xlim(-4,4)\n",
    "ax2.set_ylim(-4,4)\n",
    "ax2.set_aspect(\"equal\",\"box\")\n",
    "ax2.grid(True)\n",
    "\n",
    "plt.show()"
   ]
  },
  {
   "cell_type": "markdown",
   "metadata": {},
   "source": [
    "**Exercises:**\n",
    "\n",
    "1. Create more $v_k = R \\cdot v_{k-1}$, for $k = 1,\\ldots ,12$ and plot them into the diagram.\n",
    "1. Compare $v_0$ and $v_{12}$. What is their difference? $v_{12} - v_0 = ?$\n",
    "1. Set the angle to $\\phi = 15°$ and repeat the procedure.\n",
    "\n",
    "**Hint:** <br>\n",
    "To make the code more efficient you could collect the $v_k$ by appending them to a list. \n",
    "<br> \n",
    "Later you could use a for loop in the figure creation to extract each vector from the list and to plot it. Transfer the list example below to create the sequence \n",
    "\n",
    "$\n",
    "\\begin{eqnarray}\n",
    "\\vec{v}_1 & = & R\\cdot \\vec{v}_0 \\\\\n",
    "\\vec{v}_2 & = & R\\cdot \\vec{v}_1 \\\\\n",
    "\\vec{v}_3 & = & R\\cdot \\vec{v}_2 \\\\\n",
    "\\cdots \n",
    "\\end{eqnarray}\n",
    "$"
   ]
  },
  {
   "cell_type": "code",
   "execution_count": null,
   "metadata": {},
   "outputs": [],
   "source": [
    "# Example how to append elements to a list and to create a sequence:\n",
    "X_list = [] # empty list\n",
    "x = 2 # initialize x\n",
    "for k in range(5):\n",
    "    X_list.append(x)\n",
    "    x = x*x\n",
    "\n",
    "print(X_list)"
   ]
  },
  {
   "cell_type": "code",
   "execution_count": null,
   "metadata": {},
   "outputs": [],
   "source": [
    "for x in X_list:\n",
    "    print(f\"{x:8d}\")"
   ]
  },
  {
   "cell_type": "code",
   "execution_count": null,
   "metadata": {},
   "outputs": [],
   "source": []
  },
  {
   "cell_type": "markdown",
   "metadata": {},
   "source": [
    "## Exercise: Transpose"
   ]
  },
  {
   "cell_type": "markdown",
   "metadata": {},
   "source": [
    "The transpose operation on a matrix swaps rows and columns. Notation: $\\text{transpose}(M) = M^T$.\n",
    "\n",
    "There are two ways in numpy to transpose a matrix $M$:\n",
    "1. `np.transpose(M)`\n",
    "2. `M.T`\n",
    "\n",
    "Example:"
   ]
  },
  {
   "cell_type": "code",
   "execution_count": null,
   "metadata": {},
   "outputs": [],
   "source": [
    "M = np.array([[1,2,3],[4,5,6]])\n",
    "print(f\"Matrix M = \\n {M}\")"
   ]
  },
  {
   "cell_type": "code",
   "execution_count": null,
   "metadata": {},
   "outputs": [],
   "source": [
    "# Method 1\n",
    "# Transpose the matrix M and call it Mt\n",
    "Mt = np.transpose(M)\n",
    "print(f\"Transpose of Matrix M = \\n {Mt}\")"
   ]
  },
  {
   "cell_type": "code",
   "execution_count": null,
   "metadata": {},
   "outputs": [],
   "source": [
    "# Method 2\n",
    "# Transpose the matrix M and call it Mt\n",
    "Mt = M.T\n",
    "print(f\"Transpose of Matrix M = \\n {M.T}\")"
   ]
  },
  {
   "cell_type": "markdown",
   "metadata": {},
   "source": [
    "**Exercises:**\n",
    "\n",
    "1. Define a vector $\\vec{w} = (3,0)$\n",
    "1. Define a rotation matrix $R$ for $\\phi = 45°$.\n",
    "1. Calculate $R^T$ and name it `Rt`.\n",
    "1. Create a figure to draw the vectors $\\vec{w},\\;R\\cdot \\vec{w},\\; R^T\\cdot \\vec{w}$. What do you observe?\n",
    "1. Calculate $R^T\\cdot R$."
   ]
  },
  {
   "cell_type": "code",
   "execution_count": null,
   "metadata": {},
   "outputs": [],
   "source": []
  }
 ],
 "metadata": {
  "kernelspec": {
   "display_name": "Python 3",
   "language": "python",
   "name": "python3"
  },
  "language_info": {
   "codemirror_mode": {
    "name": "ipython",
    "version": 3
   },
   "file_extension": ".py",
   "mimetype": "text/x-python",
   "name": "python",
   "nbconvert_exporter": "python",
   "pygments_lexer": "ipython3",
   "version": "3.8.6"
  }
 },
 "nbformat": 4,
 "nbformat_minor": 4
}
