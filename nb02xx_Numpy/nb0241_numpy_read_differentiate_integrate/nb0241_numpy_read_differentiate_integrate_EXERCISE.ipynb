{
 "cells": [
  {
   "cell_type": "markdown",
   "metadata": {},
   "source": [
    "# NUMPY: Read CSV file with curve data, integrate, differentiate\n",
    "\n",
    "1. Read the file `spec.csv`. It contains some listed function values (aka 'curve'). \n",
    "1. Name the first column `x` and the second `y`.\n",
    "1. Use the trapezoid rule to integrate the curve. Use the function `ìntegrate2()`  \n",
    "1. Differentiate the curve.\n",
    "1. Find all local maxima of the listed curve."
   ]
  },
  {
   "cell_type": "code",
   "execution_count": null,
   "metadata": {},
   "outputs": [],
   "source": [
    "import numpy as np\n",
    "import matplotlib.pyplot as plt"
   ]
  },
  {
   "cell_type": "code",
   "execution_count": null,
   "metadata": {},
   "outputs": [],
   "source": [
    "# Trapezoid rule for listed function values\n",
    "\n",
    "def integrate_listed_values(x,y):\n",
    "    \n",
    "    xL = x[:-1]\n",
    "    yL = y[:-1]\n",
    "    \n",
    "    xR = x[1:]\n",
    "    yR = y[1:]\n",
    "    \n",
    "    Dx = xR - xL\n",
    "    \n",
    "    My = 1/2*(yR + yL)\n",
    "    \n",
    "    Ak = Dx*My\n",
    "    \n",
    "    I = np.sum(Ak)\n",
    "    \n",
    "    C     = x*0 # a vector of len(x) initialized with zeros.    \n",
    "    C[0]  = 0\n",
    "    C[1:] = np.cumsum(Ak) \n",
    "\n",
    "    return I, C\n"
   ]
  },
  {
   "cell_type": "code",
   "execution_count": null,
   "metadata": {},
   "outputs": [],
   "source": [
    "x.shape"
   ]
  },
  {
   "cell_type": "code",
   "execution_count": null,
   "metadata": {},
   "outputs": [],
   "source": [
    "# Secant rule for listed function vlues\n",
    "\n",
    "def differentiate_listed_values(x,y):\n",
    "    # All left points of the triangles\n",
    "    xL = x[0:-2]\n",
    "    yL = y[0:-2]\n",
    "\n",
    "    # All right points of the triangle\n",
    "    xR = x[2:]\n",
    "    yR = y[2:]\n",
    "\n",
    "    # Delta x and Delta y for the triangles\n",
    "    Dx = xR - xL\n",
    "    Dy = yR - yL\n",
    "\n",
    "    # The slope of the triangles, which have to be assigned to index k = 1 ... N-1\n",
    "    m = Dy / Dx\n",
    "\n",
    "    # To shift the indices create a vector of length N+1 (as long as the measurement series) initialized with 0 \n",
    "    M = np.zeros(x.shape)\n",
    "\n",
    "    # center m in M, i.e. leave one vector element free at each side. The slopes a the sides are initialized with M[0] = 0, M[N] = 0 \n",
    "    M[1:-1] = m \n",
    "\n",
    "    # Fill in the slopes at the boundaries\n",
    "    M[0]  = ( y[1] - y[0] ) / ( x[1] - x[0] )\n",
    "    M[-1] = ( y[-1]- y[-2]) / ( x[-1]- x[-2])\n",
    "    \n",
    "    return M"
   ]
  },
  {
   "cell_type": "code",
   "execution_count": null,
   "metadata": {},
   "outputs": [],
   "source": [
    "# Read the csv file with numpy.\n",
    "X = ..."
   ]
  },
  {
   "cell_type": "code",
   "execution_count": null,
   "metadata": {},
   "outputs": [],
   "source": [
    "# Save the columns in the variables `x` and `y`.\n",
    "x,y = ..."
   ]
  },
  {
   "cell_type": "code",
   "execution_count": null,
   "metadata": {},
   "outputs": [],
   "source": [
    "# Plot\n",
    "fig1, ax1 = plt.subplots(figsize = (8,6), dpi = 136)\n",
    "ax1.plot(x,y,'.')\n",
    "ax1.set_xlabel(\"x\")\n",
    "ax1.set_ylabel(\"y\")\n",
    "ax1.grid(True)\n",
    "#fig1.savefig(\"spec.png\")\n",
    "plt.show()"
   ]
  },
  {
   "cell_type": "code",
   "execution_count": null,
   "metadata": {},
   "outputs": [],
   "source": [
    "# integrate ...\n",
    "I, C = ..."
   ]
  },
  {
   "cell_type": "code",
   "execution_count": null,
   "metadata": {},
   "outputs": [],
   "source": [
    "# Plot\n",
    "fig2, ax2 = plt.subplots(figsize = (8,6), dpi = 136)\n",
    "ax2.plot(x,C,'.', label = r\"$F(x) = \\int_{-6}^x f(x')dx'$\")\n",
    "ax2.set_xlabel(\"x\")\n",
    "ax2.set_ylabel(\"integral\")\n",
    "ax2.grid(True)\n",
    "ax2.legend()\n",
    "#fig2.savefig(\"spec_integral.png\")\n",
    "plt.show()"
   ]
  },
  {
   "cell_type": "code",
   "execution_count": null,
   "metadata": {},
   "outputs": [],
   "source": [
    "# differentiate ...\n",
    "M = ..."
   ]
  },
  {
   "cell_type": "code",
   "execution_count": null,
   "metadata": {},
   "outputs": [],
   "source": [
    "# Plot\n",
    "fig3, ax3 = plt.subplots(figsize = (8,6), dpi = 136)\n",
    "ax3.plot(x,M,'.', label = r\"$f'(x)$\")\n",
    "ax3.set_xlabel(\"x\")\n",
    "ax3.set_ylabel(\"derivative\")\n",
    "ax3.grid(True)\n",
    "ax3.legend()\n",
    "#fig3.savefig(\"spec_derivative.png\")\n",
    "plt.show()"
   ]
  },
  {
   "cell_type": "code",
   "execution_count": null,
   "metadata": {},
   "outputs": [],
   "source": []
  }
 ],
 "metadata": {
  "kernelspec": {
   "display_name": "Python 3",
   "language": "python",
   "name": "python3"
  },
  "language_info": {
   "codemirror_mode": {
    "name": "ipython",
    "version": 3
   },
   "file_extension": ".py",
   "mimetype": "text/x-python",
   "name": "python",
   "nbconvert_exporter": "python",
   "pygments_lexer": "ipython3",
   "version": "3.8.5"
  }
 },
 "nbformat": 4,
 "nbformat_minor": 4
}
